{
 "cells": [
  {
   "cell_type": "markdown",
   "metadata": {},
   "source": [
    "# Project 3 - Creation vs Evolution"
   ]
  },
  {
   "cell_type": "markdown",
   "metadata": {},
   "source": [
    "## Problem Statement"
   ]
  },
  {
   "cell_type": "markdown",
   "metadata": {},
   "source": [
    "In this project, I use Reddit's API to scrape data from two subreddits, r/Evolution and r/Creation.  My goal is to build a model which may accurately and effectively predict and categorize post titles by subreddit.  Using NLP techniques, how accurately can we predict the subreddit based on the post titles?"
   ]
  },
  {
   "cell_type": "code",
   "execution_count": 3,
   "metadata": {},
   "outputs": [],
   "source": [
    "import pandas as pd\n",
    "import numpy as np\n",
    "import matplotlib.pyplot as plt\n",
    "\n",
    "from IPython.core.display import HTML\n",
    "import pylast\n",
    "import requests\n",
    "import time"
   ]
  },
  {
   "cell_type": "markdown",
   "metadata": {},
   "source": [
    "### Importing json data from _reddit.com_"
   ]
  },
  {
   "cell_type": "code",
   "execution_count": 4,
   "metadata": {},
   "outputs": [],
   "source": [
    "creation_url = 'https://www.reddit.com/r/Creation.json'\n",
    "evolution_url = 'https://www.reddit.com/r/evolution.json'"
   ]
  },
  {
   "cell_type": "code",
   "execution_count": 5,
   "metadata": {},
   "outputs": [],
   "source": [
    "headers = {'User-agent': 'harmon get 0.1'}"
   ]
  },
  {
   "cell_type": "code",
   "execution_count": 6,
   "metadata": {},
   "outputs": [
    {
     "data": {
      "text/plain": [
       "200"
      ]
     },
     "execution_count": 6,
     "metadata": {},
     "output_type": "execute_result"
    }
   ],
   "source": [
    "res_c = requests.get(creation_url, headers=headers)\n",
    "res_c.status_code"
   ]
  },
  {
   "cell_type": "code",
   "execution_count": 7,
   "metadata": {},
   "outputs": [
    {
     "data": {
      "text/plain": [
       "200"
      ]
     },
     "execution_count": 7,
     "metadata": {},
     "output_type": "execute_result"
    }
   ],
   "source": [
    "res_e = requests.get(evolution_url, headers=headers)\n",
    "res_e.status_code"
   ]
  },
  {
   "cell_type": "code",
   "execution_count": 8,
   "metadata": {},
   "outputs": [],
   "source": [
    "creation_json = res_c.json()"
   ]
  },
  {
   "cell_type": "code",
   "execution_count": 9,
   "metadata": {},
   "outputs": [],
   "source": [
    "evolution_json = res_e.json()"
   ]
  },
  {
   "cell_type": "markdown",
   "metadata": {},
   "source": [
    "### Extracting from the JSON"
   ]
  },
  {
   "cell_type": "code",
   "execution_count": 10,
   "metadata": {},
   "outputs": [
    {
     "data": {
      "text/plain": [
       "['data', 'kind']"
      ]
     },
     "execution_count": 10,
     "metadata": {},
     "output_type": "execute_result"
    }
   ],
   "source": [
    "sorted(creation_json.keys())"
   ]
  },
  {
   "cell_type": "code",
   "execution_count": 11,
   "metadata": {},
   "outputs": [
    {
     "data": {
      "text/plain": [
       "['after', 'before', 'children', 'dist', 'modhash']"
      ]
     },
     "execution_count": 11,
     "metadata": {},
     "output_type": "execute_result"
    }
   ],
   "source": [
    "sorted(creation_json['data'].keys())"
   ]
  },
  {
   "cell_type": "code",
   "execution_count": 12,
   "metadata": {
    "scrolled": true
   },
   "outputs": [
    {
     "data": {
      "text/plain": [
       "['t3_b8qqma',\n",
       " 't3_b8r1fb',\n",
       " 't3_b8jrue',\n",
       " 't3_b8l1to',\n",
       " 't3_b87jy5',\n",
       " 't3_b7spxi',\n",
       " 't3_b7pf5f',\n",
       " 't3_b7ojdq',\n",
       " 't3_b7hsel',\n",
       " 't3_b72t55',\n",
       " 't3_b6o9a9',\n",
       " 't3_b69294',\n",
       " 't3_b5e196',\n",
       " 't3_b50v81',\n",
       " 't3_b4rkix',\n",
       " 't3_b4ih2k',\n",
       " 't3_b3sbxb',\n",
       " 't3_b3p2zl',\n",
       " 't3_b3e0ys',\n",
       " 't3_b33s7p',\n",
       " 't3_b2y783',\n",
       " 't3_b1je35',\n",
       " 't3_b1fbzt',\n",
       " 't3_b16s5l',\n",
       " 't3_b100ov']"
      ]
     },
     "execution_count": 12,
     "metadata": {},
     "output_type": "execute_result"
    }
   ],
   "source": [
    "# returning list of 'names' of posts\n",
    "[post['data']['name'] for post in creation_json['data']['children']]"
   ]
  },
  {
   "cell_type": "code",
   "execution_count": 13,
   "metadata": {
    "scrolled": true
   },
   "outputs": [
    {
     "data": {
      "text/html": [
       "<div>\n",
       "<style scoped>\n",
       "    .dataframe tbody tr th:only-of-type {\n",
       "        vertical-align: middle;\n",
       "    }\n",
       "\n",
       "    .dataframe tbody tr th {\n",
       "        vertical-align: top;\n",
       "    }\n",
       "\n",
       "    .dataframe thead th {\n",
       "        text-align: right;\n",
       "    }\n",
       "</style>\n",
       "<table border=\"1\" class=\"dataframe\">\n",
       "  <thead>\n",
       "    <tr style=\"text-align: right;\">\n",
       "      <th></th>\n",
       "      <th>data</th>\n",
       "      <th>kind</th>\n",
       "    </tr>\n",
       "  </thead>\n",
       "  <tbody>\n",
       "    <tr>\n",
       "      <th>0</th>\n",
       "      <td>{'approved_at_utc': None, 'subreddit': 'Creati...</td>\n",
       "      <td>t3</td>\n",
       "    </tr>\n",
       "    <tr>\n",
       "      <th>1</th>\n",
       "      <td>{'approved_at_utc': None, 'subreddit': 'Creati...</td>\n",
       "      <td>t3</td>\n",
       "    </tr>\n",
       "    <tr>\n",
       "      <th>2</th>\n",
       "      <td>{'approved_at_utc': None, 'subreddit': 'Creati...</td>\n",
       "      <td>t3</td>\n",
       "    </tr>\n",
       "    <tr>\n",
       "      <th>3</th>\n",
       "      <td>{'approved_at_utc': None, 'subreddit': 'Creati...</td>\n",
       "      <td>t3</td>\n",
       "    </tr>\n",
       "    <tr>\n",
       "      <th>4</th>\n",
       "      <td>{'approved_at_utc': None, 'subreddit': 'Creati...</td>\n",
       "      <td>t3</td>\n",
       "    </tr>\n",
       "    <tr>\n",
       "      <th>5</th>\n",
       "      <td>{'approved_at_utc': None, 'subreddit': 'Creati...</td>\n",
       "      <td>t3</td>\n",
       "    </tr>\n",
       "    <tr>\n",
       "      <th>6</th>\n",
       "      <td>{'approved_at_utc': None, 'subreddit': 'Creati...</td>\n",
       "      <td>t3</td>\n",
       "    </tr>\n",
       "    <tr>\n",
       "      <th>7</th>\n",
       "      <td>{'approved_at_utc': None, 'subreddit': 'Creati...</td>\n",
       "      <td>t3</td>\n",
       "    </tr>\n",
       "    <tr>\n",
       "      <th>8</th>\n",
       "      <td>{'approved_at_utc': None, 'subreddit': 'Creati...</td>\n",
       "      <td>t3</td>\n",
       "    </tr>\n",
       "    <tr>\n",
       "      <th>9</th>\n",
       "      <td>{'approved_at_utc': None, 'subreddit': 'Creati...</td>\n",
       "      <td>t3</td>\n",
       "    </tr>\n",
       "    <tr>\n",
       "      <th>10</th>\n",
       "      <td>{'approved_at_utc': None, 'subreddit': 'Creati...</td>\n",
       "      <td>t3</td>\n",
       "    </tr>\n",
       "    <tr>\n",
       "      <th>11</th>\n",
       "      <td>{'approved_at_utc': None, 'subreddit': 'Creati...</td>\n",
       "      <td>t3</td>\n",
       "    </tr>\n",
       "    <tr>\n",
       "      <th>12</th>\n",
       "      <td>{'approved_at_utc': None, 'subreddit': 'Creati...</td>\n",
       "      <td>t3</td>\n",
       "    </tr>\n",
       "    <tr>\n",
       "      <th>13</th>\n",
       "      <td>{'approved_at_utc': None, 'subreddit': 'Creati...</td>\n",
       "      <td>t3</td>\n",
       "    </tr>\n",
       "    <tr>\n",
       "      <th>14</th>\n",
       "      <td>{'approved_at_utc': None, 'subreddit': 'Creati...</td>\n",
       "      <td>t3</td>\n",
       "    </tr>\n",
       "    <tr>\n",
       "      <th>15</th>\n",
       "      <td>{'approved_at_utc': None, 'subreddit': 'Creati...</td>\n",
       "      <td>t3</td>\n",
       "    </tr>\n",
       "    <tr>\n",
       "      <th>16</th>\n",
       "      <td>{'approved_at_utc': None, 'subreddit': 'Creati...</td>\n",
       "      <td>t3</td>\n",
       "    </tr>\n",
       "    <tr>\n",
       "      <th>17</th>\n",
       "      <td>{'approved_at_utc': None, 'subreddit': 'Creati...</td>\n",
       "      <td>t3</td>\n",
       "    </tr>\n",
       "    <tr>\n",
       "      <th>18</th>\n",
       "      <td>{'approved_at_utc': None, 'subreddit': 'Creati...</td>\n",
       "      <td>t3</td>\n",
       "    </tr>\n",
       "    <tr>\n",
       "      <th>19</th>\n",
       "      <td>{'approved_at_utc': None, 'subreddit': 'Creati...</td>\n",
       "      <td>t3</td>\n",
       "    </tr>\n",
       "    <tr>\n",
       "      <th>20</th>\n",
       "      <td>{'approved_at_utc': None, 'subreddit': 'Creati...</td>\n",
       "      <td>t3</td>\n",
       "    </tr>\n",
       "    <tr>\n",
       "      <th>21</th>\n",
       "      <td>{'approved_at_utc': None, 'subreddit': 'Creati...</td>\n",
       "      <td>t3</td>\n",
       "    </tr>\n",
       "    <tr>\n",
       "      <th>22</th>\n",
       "      <td>{'approved_at_utc': None, 'subreddit': 'Creati...</td>\n",
       "      <td>t3</td>\n",
       "    </tr>\n",
       "    <tr>\n",
       "      <th>23</th>\n",
       "      <td>{'approved_at_utc': None, 'subreddit': 'Creati...</td>\n",
       "      <td>t3</td>\n",
       "    </tr>\n",
       "    <tr>\n",
       "      <th>24</th>\n",
       "      <td>{'approved_at_utc': None, 'subreddit': 'Creati...</td>\n",
       "      <td>t3</td>\n",
       "    </tr>\n",
       "  </tbody>\n",
       "</table>\n",
       "</div>"
      ],
      "text/plain": [
       "                                                 data kind\n",
       "0   {'approved_at_utc': None, 'subreddit': 'Creati...   t3\n",
       "1   {'approved_at_utc': None, 'subreddit': 'Creati...   t3\n",
       "2   {'approved_at_utc': None, 'subreddit': 'Creati...   t3\n",
       "3   {'approved_at_utc': None, 'subreddit': 'Creati...   t3\n",
       "4   {'approved_at_utc': None, 'subreddit': 'Creati...   t3\n",
       "5   {'approved_at_utc': None, 'subreddit': 'Creati...   t3\n",
       "6   {'approved_at_utc': None, 'subreddit': 'Creati...   t3\n",
       "7   {'approved_at_utc': None, 'subreddit': 'Creati...   t3\n",
       "8   {'approved_at_utc': None, 'subreddit': 'Creati...   t3\n",
       "9   {'approved_at_utc': None, 'subreddit': 'Creati...   t3\n",
       "10  {'approved_at_utc': None, 'subreddit': 'Creati...   t3\n",
       "11  {'approved_at_utc': None, 'subreddit': 'Creati...   t3\n",
       "12  {'approved_at_utc': None, 'subreddit': 'Creati...   t3\n",
       "13  {'approved_at_utc': None, 'subreddit': 'Creati...   t3\n",
       "14  {'approved_at_utc': None, 'subreddit': 'Creati...   t3\n",
       "15  {'approved_at_utc': None, 'subreddit': 'Creati...   t3\n",
       "16  {'approved_at_utc': None, 'subreddit': 'Creati...   t3\n",
       "17  {'approved_at_utc': None, 'subreddit': 'Creati...   t3\n",
       "18  {'approved_at_utc': None, 'subreddit': 'Creati...   t3\n",
       "19  {'approved_at_utc': None, 'subreddit': 'Creati...   t3\n",
       "20  {'approved_at_utc': None, 'subreddit': 'Creati...   t3\n",
       "21  {'approved_at_utc': None, 'subreddit': 'Creati...   t3\n",
       "22  {'approved_at_utc': None, 'subreddit': 'Creati...   t3\n",
       "23  {'approved_at_utc': None, 'subreddit': 'Creati...   t3\n",
       "24  {'approved_at_utc': None, 'subreddit': 'Creati...   t3"
      ]
     },
     "execution_count": 13,
     "metadata": {},
     "output_type": "execute_result"
    }
   ],
   "source": [
    "pd.DataFrame(creation_json['data']['children'])"
   ]
  },
  {
   "cell_type": "code",
   "execution_count": 14,
   "metadata": {},
   "outputs": [
    {
     "data": {
      "text/plain": [
       "dict_keys(['approved_at_utc', 'subreddit', 'selftext', 'author_fullname', 'saved', 'mod_reason_title', 'gilded', 'clicked', 'title', 'link_flair_richtext', 'subreddit_name_prefixed', 'hidden', 'pwls', 'link_flair_css_class', 'downs', 'thumbnail_height', 'hide_score', 'name', 'quarantine', 'link_flair_text_color', 'author_flair_background_color', 'subreddit_type', 'ups', 'domain', 'media_embed', 'thumbnail_width', 'author_flair_template_id', 'is_original_content', 'user_reports', 'secure_media', 'is_reddit_media_domain', 'is_meta', 'category', 'secure_media_embed', 'link_flair_text', 'can_mod_post', 'score', 'approved_by', 'thumbnail', 'edited', 'author_flair_css_class', 'author_flair_richtext', 'gildings', 'post_hint', 'content_categories', 'is_self', 'mod_note', 'created', 'link_flair_type', 'wls', 'banned_by', 'author_flair_type', 'contest_mode', 'selftext_html', 'likes', 'suggested_sort', 'banned_at_utc', 'view_count', 'archived', 'no_follow', 'is_crosspostable', 'pinned', 'over_18', 'preview', 'media_only', 'can_gild', 'spoiler', 'locked', 'author_flair_text', 'visited', 'num_reports', 'distinguished', 'subreddit_id', 'mod_reason_by', 'removal_reason', 'link_flair_background_color', 'id', 'is_robot_indexable', 'report_reasons', 'author', 'num_crossposts', 'num_comments', 'send_replies', 'whitelist_status', 'mod_reports', 'author_patreon_flair', 'author_flair_text_color', 'permalink', 'parent_whitelist_status', 'stickied', 'url', 'subreddit_subscribers', 'created_utc', 'media', 'is_video'])"
      ]
     },
     "execution_count": 14,
     "metadata": {},
     "output_type": "execute_result"
    }
   ],
   "source": [
    "creation_json['data']['children'][0]['data'].keys()"
   ]
  },
  {
   "cell_type": "code",
   "execution_count": 15,
   "metadata": {},
   "outputs": [
    {
     "data": {
      "text/plain": [
       "'t3_b100ov'"
      ]
     },
     "execution_count": 15,
     "metadata": {},
     "output_type": "execute_result"
    }
   ],
   "source": [
    "creation_json['data']['after']"
   ]
  },
  {
   "cell_type": "markdown",
   "metadata": {},
   "source": [
    "### Getting multiple pages of posts from r/creation\n",
    "    - Scraping performed on 3/31/2019"
   ]
  },
  {
   "cell_type": "code",
   "execution_count": 16,
   "metadata": {
    "scrolled": true
   },
   "outputs": [
    {
     "name": "stdout",
     "output_type": "stream",
     "text": [
      "Parsing page numbers 0\n",
      "Parsing page numbers 1\n",
      "Parsing page numbers 2\n",
      "Parsing page numbers 3\n",
      "Parsing page numbers 4\n",
      "Parsing page numbers 5\n",
      "Parsing page numbers 6\n",
      "Parsing page numbers 7\n",
      "Parsing page numbers 8\n",
      "Parsing page numbers 9\n",
      "Parsing page numbers 10\n",
      "Parsing page numbers 11\n",
      "Parsing page numbers 12\n",
      "Parsing page numbers 13\n",
      "Parsing page numbers 14\n",
      "Parsing page numbers 15\n",
      "Parsing page numbers 16\n",
      "Parsing page numbers 17\n",
      "Parsing page numbers 18\n",
      "Parsing page numbers 19\n",
      "Parsing page numbers 20\n",
      "Parsing page numbers 21\n",
      "Parsing page numbers 22\n",
      "Parsing page numbers 23\n",
      "Parsing page numbers 24\n",
      "Parsing page numbers 25\n",
      "Parsing page numbers 26\n",
      "Parsing page numbers 27\n",
      "Parsing page numbers 28\n",
      "Parsing page numbers 29\n",
      "Parsing page numbers 30\n",
      "Parsing page numbers 31\n",
      "Parsing page numbers 32\n",
      "Parsing page numbers 33\n",
      "Parsing page numbers 34\n",
      "Parsing page numbers 35\n",
      "Parsing page numbers 36\n",
      "Parsing page numbers 37\n",
      "Parsing page numbers 38\n",
      "Parsing page numbers 39\n",
      "Parsing page numbers 40\n",
      "Parsing page numbers 41\n",
      "Parsing page numbers 42\n",
      "Parsing page numbers 43\n",
      "Parsing page numbers 44\n",
      "Parsing page numbers 45\n",
      "Parsing page numbers 46\n",
      "Parsing page numbers 47\n",
      "Parsing page numbers 48\n",
      "Parsing page numbers 49\n"
     ]
    }
   ],
   "source": [
    "creation_posts = []\n",
    "after = None\n",
    "for i in range(50):     # 50 pages of posts\n",
    "    if i % 5 == 0:\n",
    "        print(f'Parsing page number {i}')\n",
    "    if after == None:\n",
    "        params = {}\n",
    "    else:\n",
    "        params = {'after': after}\n",
    "    creation_url = 'https://www.reddit.com/r/Creation.json'\n",
    "    res_c = requests.get(creation_url, params=params, headers=headers)\n",
    "    if res_c.status_code == 200:\n",
    "        creation_json = res_c.json()\n",
    "        creation_posts.extend(creation_json['data']['children'])\n",
    "        after = creation_json['data']['after']\n",
    "    else:\n",
    "        print(res_c.status_code)\n",
    "        print('Error fetching reddit json')\n",
    "        break\n",
    "    time.sleep(3)       # don't want to be labeled as a DDOS attack"
   ]
  },
  {
   "cell_type": "code",
   "execution_count": 17,
   "metadata": {},
   "outputs": [
    {
     "data": {
      "text/plain": [
       "1246"
      ]
     },
     "execution_count": 17,
     "metadata": {},
     "output_type": "execute_result"
    }
   ],
   "source": [
    "len(creation_posts)"
   ]
  },
  {
   "cell_type": "code",
   "execution_count": 18,
   "metadata": {},
   "outputs": [
    {
     "data": {
      "text/plain": [
       "995"
      ]
     },
     "execution_count": 18,
     "metadata": {},
     "output_type": "execute_result"
    }
   ],
   "source": [
    "# are there any duplicate posts?\n",
    "len(set([post['data']['title'] for post in creation_posts]))"
   ]
  },
  {
   "cell_type": "code",
   "execution_count": 19,
   "metadata": {},
   "outputs": [],
   "source": [
    "# dataframe from set of unique post titles\n",
    "crea_df = pd.DataFrame(set([post['data']['title'] for post in creation_posts]))"
   ]
  },
  {
   "cell_type": "code",
   "execution_count": 20,
   "metadata": {},
   "outputs": [
    {
     "data": {
      "text/html": [
       "<div>\n",
       "<style scoped>\n",
       "    .dataframe tbody tr th:only-of-type {\n",
       "        vertical-align: middle;\n",
       "    }\n",
       "\n",
       "    .dataframe tbody tr th {\n",
       "        vertical-align: top;\n",
       "    }\n",
       "\n",
       "    .dataframe thead th {\n",
       "        text-align: right;\n",
       "    }\n",
       "</style>\n",
       "<table border=\"1\" class=\"dataframe\">\n",
       "  <thead>\n",
       "    <tr style=\"text-align: right;\">\n",
       "      <th></th>\n",
       "      <th>0</th>\n",
       "    </tr>\n",
       "  </thead>\n",
       "  <tbody>\n",
       "    <tr>\n",
       "      <th>0</th>\n",
       "      <td>Between Knowing and Believing: Can we be certa...</td>\n",
       "    </tr>\n",
       "    <tr>\n",
       "      <th>1</th>\n",
       "      <td>What things around you do you observe that mak...</td>\n",
       "    </tr>\n",
       "    <tr>\n",
       "      <th>2</th>\n",
       "      <td>Intelligent Design as a Theory of Information</td>\n",
       "    </tr>\n",
       "    <tr>\n",
       "      <th>3</th>\n",
       "      <td>A great explanation of entropy (with sheep!)</td>\n",
       "    </tr>\n",
       "    <tr>\n",
       "      <th>4</th>\n",
       "      <td>Liars for Darwin</td>\n",
       "    </tr>\n",
       "  </tbody>\n",
       "</table>\n",
       "</div>"
      ],
      "text/plain": [
       "                                                   0\n",
       "0  Between Knowing and Believing: Can we be certa...\n",
       "1  What things around you do you observe that mak...\n",
       "2      Intelligent Design as a Theory of Information\n",
       "3       A great explanation of entropy (with sheep!)\n",
       "4                                   Liars for Darwin"
      ]
     },
     "execution_count": 20,
     "metadata": {},
     "output_type": "execute_result"
    }
   ],
   "source": [
    "crea_df.head(3)"
   ]
  },
  {
   "cell_type": "code",
   "execution_count": 21,
   "metadata": {},
   "outputs": [],
   "source": [
    "crea_df.rename(columns={0:'title'}, inplace=True)"
   ]
  },
  {
   "cell_type": "code",
   "execution_count": 22,
   "metadata": {},
   "outputs": [],
   "source": [
    "crea_df['is_Evolution'] = 0"
   ]
  },
  {
   "cell_type": "code",
   "execution_count": 41,
   "metadata": {},
   "outputs": [
    {
     "data": {
      "text/html": [
       "<div>\n",
       "<style scoped>\n",
       "    .dataframe tbody tr th:only-of-type {\n",
       "        vertical-align: middle;\n",
       "    }\n",
       "\n",
       "    .dataframe tbody tr th {\n",
       "        vertical-align: top;\n",
       "    }\n",
       "\n",
       "    .dataframe thead th {\n",
       "        text-align: right;\n",
       "    }\n",
       "</style>\n",
       "<table border=\"1\" class=\"dataframe\">\n",
       "  <thead>\n",
       "    <tr style=\"text-align: right;\">\n",
       "      <th></th>\n",
       "      <th>title</th>\n",
       "      <th>is_Evolution</th>\n",
       "    </tr>\n",
       "  </thead>\n",
       "  <tbody>\n",
       "    <tr>\n",
       "      <th>0</th>\n",
       "      <td>Between Knowing and Believing: Can we be certa...</td>\n",
       "      <td>0</td>\n",
       "    </tr>\n",
       "    <tr>\n",
       "      <th>1</th>\n",
       "      <td>What things around you do you observe that mak...</td>\n",
       "      <td>0</td>\n",
       "    </tr>\n",
       "    <tr>\n",
       "      <th>2</th>\n",
       "      <td>Intelligent Design as a Theory of Information</td>\n",
       "      <td>0</td>\n",
       "    </tr>\n",
       "  </tbody>\n",
       "</table>\n",
       "</div>"
      ],
      "text/plain": [
       "                                               title  is_Evolution\n",
       "0  Between Knowing and Believing: Can we be certa...             0\n",
       "1  What things around you do you observe that mak...             0\n",
       "2      Intelligent Design as a Theory of Information             0"
      ]
     },
     "execution_count": 41,
     "metadata": {},
     "output_type": "execute_result"
    }
   ],
   "source": [
    "crea_df.head(3)"
   ]
  },
  {
   "cell_type": "markdown",
   "metadata": {},
   "source": [
    "### Getting multiple pages of posts from r/evolution\n",
    "    - Scraping performed on 3/31/2019"
   ]
  },
  {
   "cell_type": "code",
   "execution_count": 24,
   "metadata": {
    "scrolled": true
   },
   "outputs": [
    {
     "name": "stdout",
     "output_type": "stream",
     "text": [
      "Parsing page number 0\n",
      "Parsing page number 1\n",
      "Parsing page number 2\n",
      "Parsing page number 3\n",
      "Parsing page number 4\n",
      "Parsing page number 5\n",
      "Parsing page number 6\n",
      "Parsing page number 7\n",
      "Parsing page number 8\n",
      "Parsing page number 9\n",
      "Parsing page number 10\n",
      "Parsing page number 11\n",
      "Parsing page number 12\n",
      "Parsing page number 13\n",
      "Parsing page number 14\n",
      "Parsing page number 15\n",
      "Parsing page number 16\n",
      "Parsing page number 17\n",
      "Parsing page number 18\n",
      "Parsing page number 19\n",
      "Parsing page number 20\n",
      "Parsing page number 21\n",
      "Parsing page number 22\n",
      "Parsing page number 23\n",
      "Parsing page number 24\n",
      "Parsing page number 25\n",
      "Parsing page number 26\n",
      "Parsing page number 27\n",
      "Parsing page number 28\n",
      "Parsing page number 29\n",
      "Parsing page number 30\n",
      "Parsing page number 31\n",
      "Parsing page number 32\n",
      "Parsing page number 33\n",
      "Parsing page number 34\n",
      "Parsing page number 35\n",
      "Parsing page number 36\n",
      "Parsing page number 37\n",
      "Parsing page number 38\n",
      "Parsing page number 39\n",
      "Parsing page number 40\n",
      "Parsing page number 41\n",
      "Parsing page number 42\n",
      "Parsing page number 43\n",
      "Parsing page number 44\n",
      "Parsing page number 45\n",
      "Parsing page number 46\n",
      "Parsing page number 47\n",
      "Parsing page number 48\n",
      "Parsing page number 49\n"
     ]
    }
   ],
   "source": [
    "evolution_posts = []\n",
    "after = None\n",
    "for i in range(50):\n",
    "    if i % 5 == 0:\n",
    "        print(f'Parsing page number {i}')\n",
    "    if after == None:\n",
    "        params = {}\n",
    "    else:\n",
    "        params = {'after': after}\n",
    "    evolution_url = 'https://www.reddit.com/r/evolution.json'\n",
    "    res_e = requests.get(evolution_url, params=params, headers=headers)\n",
    "    if res_e.status_code == 200:\n",
    "        evolution_json = res_e.json()\n",
    "        evolution_posts.extend(evolution_json['data']['children'])\n",
    "        after = evolution_json['data']['after']\n",
    "    else:\n",
    "        print(res_e.status_code)\n",
    "        print('Error fetching reddit json')\n",
    "        break\n",
    "    time.sleep(3)"
   ]
  },
  {
   "cell_type": "code",
   "execution_count": 25,
   "metadata": {},
   "outputs": [
    {
     "data": {
      "text/plain": [
       "1232"
      ]
     },
     "execution_count": 25,
     "metadata": {},
     "output_type": "execute_result"
    }
   ],
   "source": [
    "len(evolution_posts)"
   ]
  },
  {
   "cell_type": "code",
   "execution_count": 26,
   "metadata": {},
   "outputs": [
    {
     "data": {
      "text/plain": [
       "974"
      ]
     },
     "execution_count": 26,
     "metadata": {},
     "output_type": "execute_result"
    }
   ],
   "source": [
    "# are there any duplicate posts?\n",
    "len(set([post['data']['title'] for post in evolution_posts]))"
   ]
  },
  {
   "cell_type": "code",
   "execution_count": 27,
   "metadata": {},
   "outputs": [],
   "source": [
    "# dataframe from set of unique post titles\n",
    "evo_df = pd.DataFrame(set([post['data']['title'] for post in evolution_posts]))"
   ]
  },
  {
   "cell_type": "code",
   "execution_count": 40,
   "metadata": {},
   "outputs": [
    {
     "data": {
      "text/html": [
       "<div>\n",
       "<style scoped>\n",
       "    .dataframe tbody tr th:only-of-type {\n",
       "        vertical-align: middle;\n",
       "    }\n",
       "\n",
       "    .dataframe tbody tr th {\n",
       "        vertical-align: top;\n",
       "    }\n",
       "\n",
       "    .dataframe thead th {\n",
       "        text-align: right;\n",
       "    }\n",
       "</style>\n",
       "<table border=\"1\" class=\"dataframe\">\n",
       "  <thead>\n",
       "    <tr style=\"text-align: right;\">\n",
       "      <th></th>\n",
       "      <th>title</th>\n",
       "      <th>is_Evolution</th>\n",
       "    </tr>\n",
       "  </thead>\n",
       "  <tbody>\n",
       "    <tr>\n",
       "      <th>0</th>\n",
       "      <td>Anti-evolution courses on Udemy</td>\n",
       "      <td>1</td>\n",
       "    </tr>\n",
       "    <tr>\n",
       "      <th>1</th>\n",
       "      <td>When Birds Stopped Flying PBS Eons</td>\n",
       "      <td>1</td>\n",
       "    </tr>\n",
       "    <tr>\n",
       "      <th>2</th>\n",
       "      <td>I am currently researching creationism and evo...</td>\n",
       "      <td>1</td>\n",
       "    </tr>\n",
       "  </tbody>\n",
       "</table>\n",
       "</div>"
      ],
      "text/plain": [
       "                                               title  is_Evolution\n",
       "0                    Anti-evolution courses on Udemy             1\n",
       "1                 When Birds Stopped Flying PBS Eons             1\n",
       "2  I am currently researching creationism and evo...             1"
      ]
     },
     "execution_count": 40,
     "metadata": {},
     "output_type": "execute_result"
    }
   ],
   "source": [
    "evo_df.head(3)"
   ]
  },
  {
   "cell_type": "code",
   "execution_count": 29,
   "metadata": {},
   "outputs": [],
   "source": [
    "evo_df.rename(columns={0:'title'}, inplace=True)"
   ]
  },
  {
   "cell_type": "code",
   "execution_count": 30,
   "metadata": {},
   "outputs": [],
   "source": [
    "evo_df['is_Evolution'] = 1"
   ]
  },
  {
   "cell_type": "code",
   "execution_count": 31,
   "metadata": {},
   "outputs": [
    {
     "data": {
      "text/html": [
       "<div>\n",
       "<style scoped>\n",
       "    .dataframe tbody tr th:only-of-type {\n",
       "        vertical-align: middle;\n",
       "    }\n",
       "\n",
       "    .dataframe tbody tr th {\n",
       "        vertical-align: top;\n",
       "    }\n",
       "\n",
       "    .dataframe thead th {\n",
       "        text-align: right;\n",
       "    }\n",
       "</style>\n",
       "<table border=\"1\" class=\"dataframe\">\n",
       "  <thead>\n",
       "    <tr style=\"text-align: right;\">\n",
       "      <th></th>\n",
       "      <th>title</th>\n",
       "      <th>is_Evolution</th>\n",
       "    </tr>\n",
       "  </thead>\n",
       "  <tbody>\n",
       "    <tr>\n",
       "      <th>0</th>\n",
       "      <td>Anti-evolution courses on Udemy</td>\n",
       "      <td>1</td>\n",
       "    </tr>\n",
       "    <tr>\n",
       "      <th>1</th>\n",
       "      <td>When Birds Stopped Flying PBS Eons</td>\n",
       "      <td>1</td>\n",
       "    </tr>\n",
       "    <tr>\n",
       "      <th>2</th>\n",
       "      <td>I am currently researching creationism and evo...</td>\n",
       "      <td>1</td>\n",
       "    </tr>\n",
       "    <tr>\n",
       "      <th>3</th>\n",
       "      <td>The flaws that I see with the Savanna hypothes...</td>\n",
       "      <td>1</td>\n",
       "    </tr>\n",
       "    <tr>\n",
       "      <th>4</th>\n",
       "      <td>These Female Insects Evolved Penises</td>\n",
       "      <td>1</td>\n",
       "    </tr>\n",
       "  </tbody>\n",
       "</table>\n",
       "</div>"
      ],
      "text/plain": [
       "                                               title  is_Evolution\n",
       "0                    Anti-evolution courses on Udemy             1\n",
       "1                 When Birds Stopped Flying PBS Eons             1\n",
       "2  I am currently researching creationism and evo...             1\n",
       "3  The flaws that I see with the Savanna hypothes...             1\n",
       "4               These Female Insects Evolved Penises             1"
      ]
     },
     "execution_count": 31,
     "metadata": {},
     "output_type": "execute_result"
    }
   ],
   "source": [
    "evo_df.head(3)"
   ]
  },
  {
   "cell_type": "markdown",
   "metadata": {},
   "source": [
    "### Combining post title dataframes"
   ]
  },
  {
   "cell_type": "code",
   "execution_count": 42,
   "metadata": {},
   "outputs": [],
   "source": [
    "df = evo_df.append(crea_df)"
   ]
  },
  {
   "cell_type": "code",
   "execution_count": 43,
   "metadata": {},
   "outputs": [
    {
     "data": {
      "text/html": [
       "<div>\n",
       "<style scoped>\n",
       "    .dataframe tbody tr th:only-of-type {\n",
       "        vertical-align: middle;\n",
       "    }\n",
       "\n",
       "    .dataframe tbody tr th {\n",
       "        vertical-align: top;\n",
       "    }\n",
       "\n",
       "    .dataframe thead th {\n",
       "        text-align: right;\n",
       "    }\n",
       "</style>\n",
       "<table border=\"1\" class=\"dataframe\">\n",
       "  <thead>\n",
       "    <tr style=\"text-align: right;\">\n",
       "      <th></th>\n",
       "      <th>title</th>\n",
       "      <th>is_Evolution</th>\n",
       "    </tr>\n",
       "  </thead>\n",
       "  <tbody>\n",
       "    <tr>\n",
       "      <th>0</th>\n",
       "      <td>Anti-evolution courses on Udemy</td>\n",
       "      <td>1</td>\n",
       "    </tr>\n",
       "    <tr>\n",
       "      <th>1</th>\n",
       "      <td>When Birds Stopped Flying PBS Eons</td>\n",
       "      <td>1</td>\n",
       "    </tr>\n",
       "    <tr>\n",
       "      <th>2</th>\n",
       "      <td>I am currently researching creationism and evo...</td>\n",
       "      <td>1</td>\n",
       "    </tr>\n",
       "  </tbody>\n",
       "</table>\n",
       "</div>"
      ],
      "text/plain": [
       "                                               title  is_Evolution\n",
       "0                    Anti-evolution courses on Udemy             1\n",
       "1                 When Birds Stopped Flying PBS Eons             1\n",
       "2  I am currently researching creationism and evo...             1"
      ]
     },
     "execution_count": 43,
     "metadata": {},
     "output_type": "execute_result"
    }
   ],
   "source": [
    "df.head(3)"
   ]
  },
  {
   "cell_type": "code",
   "execution_count": 44,
   "metadata": {},
   "outputs": [
    {
     "data": {
      "text/html": [
       "<div>\n",
       "<style scoped>\n",
       "    .dataframe tbody tr th:only-of-type {\n",
       "        vertical-align: middle;\n",
       "    }\n",
       "\n",
       "    .dataframe tbody tr th {\n",
       "        vertical-align: top;\n",
       "    }\n",
       "\n",
       "    .dataframe thead th {\n",
       "        text-align: right;\n",
       "    }\n",
       "</style>\n",
       "<table border=\"1\" class=\"dataframe\">\n",
       "  <thead>\n",
       "    <tr style=\"text-align: right;\">\n",
       "      <th></th>\n",
       "      <th>title</th>\n",
       "      <th>is_Evolution</th>\n",
       "    </tr>\n",
       "  </thead>\n",
       "  <tbody>\n",
       "    <tr>\n",
       "      <th>992</th>\n",
       "      <td>I just started a blog about Ecology, Environme...</td>\n",
       "      <td>0</td>\n",
       "    </tr>\n",
       "    <tr>\n",
       "      <th>993</th>\n",
       "      <td>Replacing Darwin - An Interview with Nathaniel...</td>\n",
       "      <td>0</td>\n",
       "    </tr>\n",
       "    <tr>\n",
       "      <th>994</th>\n",
       "      <td>Is there any evidence that rapid speciation to...</td>\n",
       "      <td>0</td>\n",
       "    </tr>\n",
       "  </tbody>\n",
       "</table>\n",
       "</div>"
      ],
      "text/plain": [
       "                                                 title  is_Evolution\n",
       "992  I just started a blog about Ecology, Environme...             0\n",
       "993  Replacing Darwin - An Interview with Nathaniel...             0\n",
       "994  Is there any evidence that rapid speciation to...             0"
      ]
     },
     "execution_count": 44,
     "metadata": {},
     "output_type": "execute_result"
    }
   ],
   "source": [
    "df.tail(3)"
   ]
  },
  {
   "cell_type": "markdown",
   "metadata": {},
   "source": [
    "The dataframe should have 1969 rows, but the tail shows an index only to 994.  This issue resulted from combining the two dataframes with `.append()`, and currently most of our indexes apply to two separate rows.\n",
    "\n",
    "To resolve this, we use `.reset_index(drop=True, inplace=True)` to reset the index for our new, combined dataframe!"
   ]
  },
  {
   "cell_type": "code",
   "execution_count": 45,
   "metadata": {
    "scrolled": true
   },
   "outputs": [],
   "source": [
    "# reseting the indexes to have fully unique indexes\n",
    "df.reset_index(drop=True, inplace=True)"
   ]
  },
  {
   "cell_type": "code",
   "execution_count": 46,
   "metadata": {},
   "outputs": [
    {
     "data": {
      "text/html": [
       "<div>\n",
       "<style scoped>\n",
       "    .dataframe tbody tr th:only-of-type {\n",
       "        vertical-align: middle;\n",
       "    }\n",
       "\n",
       "    .dataframe tbody tr th {\n",
       "        vertical-align: top;\n",
       "    }\n",
       "\n",
       "    .dataframe thead th {\n",
       "        text-align: right;\n",
       "    }\n",
       "</style>\n",
       "<table border=\"1\" class=\"dataframe\">\n",
       "  <thead>\n",
       "    <tr style=\"text-align: right;\">\n",
       "      <th></th>\n",
       "      <th>title</th>\n",
       "      <th>is_Evolution</th>\n",
       "    </tr>\n",
       "  </thead>\n",
       "  <tbody>\n",
       "    <tr>\n",
       "      <th>0</th>\n",
       "      <td>Anti-evolution courses on Udemy</td>\n",
       "      <td>1</td>\n",
       "    </tr>\n",
       "    <tr>\n",
       "      <th>1</th>\n",
       "      <td>When Birds Stopped Flying PBS Eons</td>\n",
       "      <td>1</td>\n",
       "    </tr>\n",
       "    <tr>\n",
       "      <th>2</th>\n",
       "      <td>I am currently researching creationism and evo...</td>\n",
       "      <td>1</td>\n",
       "    </tr>\n",
       "  </tbody>\n",
       "</table>\n",
       "</div>"
      ],
      "text/plain": [
       "                                               title  is_Evolution\n",
       "0                    Anti-evolution courses on Udemy             1\n",
       "1                 When Birds Stopped Flying PBS Eons             1\n",
       "2  I am currently researching creationism and evo...             1"
      ]
     },
     "execution_count": 46,
     "metadata": {},
     "output_type": "execute_result"
    }
   ],
   "source": [
    "df.head(3)"
   ]
  },
  {
   "cell_type": "code",
   "execution_count": 47,
   "metadata": {},
   "outputs": [
    {
     "data": {
      "text/html": [
       "<div>\n",
       "<style scoped>\n",
       "    .dataframe tbody tr th:only-of-type {\n",
       "        vertical-align: middle;\n",
       "    }\n",
       "\n",
       "    .dataframe tbody tr th {\n",
       "        vertical-align: top;\n",
       "    }\n",
       "\n",
       "    .dataframe thead th {\n",
       "        text-align: right;\n",
       "    }\n",
       "</style>\n",
       "<table border=\"1\" class=\"dataframe\">\n",
       "  <thead>\n",
       "    <tr style=\"text-align: right;\">\n",
       "      <th></th>\n",
       "      <th>title</th>\n",
       "      <th>is_Evolution</th>\n",
       "    </tr>\n",
       "  </thead>\n",
       "  <tbody>\n",
       "    <tr>\n",
       "      <th>1966</th>\n",
       "      <td>I just started a blog about Ecology, Environme...</td>\n",
       "      <td>0</td>\n",
       "    </tr>\n",
       "    <tr>\n",
       "      <th>1967</th>\n",
       "      <td>Replacing Darwin - An Interview with Nathaniel...</td>\n",
       "      <td>0</td>\n",
       "    </tr>\n",
       "    <tr>\n",
       "      <th>1968</th>\n",
       "      <td>Is there any evidence that rapid speciation to...</td>\n",
       "      <td>0</td>\n",
       "    </tr>\n",
       "  </tbody>\n",
       "</table>\n",
       "</div>"
      ],
      "text/plain": [
       "                                                  title  is_Evolution\n",
       "1966  I just started a blog about Ecology, Environme...             0\n",
       "1967  Replacing Darwin - An Interview with Nathaniel...             0\n",
       "1968  Is there any evidence that rapid speciation to...             0"
      ]
     },
     "execution_count": 47,
     "metadata": {},
     "output_type": "execute_result"
    }
   ],
   "source": [
    "df.tail(3)"
   ]
  },
  {
   "cell_type": "markdown",
   "metadata": {},
   "source": [
    "### Saving the \"raw\" dataframe"
   ]
  },
  {
   "cell_type": "code",
   "execution_count": 57,
   "metadata": {},
   "outputs": [],
   "source": [
    "df.to_csv('./data/raw_titles.csv')"
   ]
  },
  {
   "cell_type": "code",
   "execution_count": null,
   "metadata": {},
   "outputs": [],
   "source": []
  }
 ],
 "metadata": {
  "kernelspec": {
   "display_name": "Python 3",
   "language": "python",
   "name": "python3"
  },
  "language_info": {
   "codemirror_mode": {
    "name": "ipython",
    "version": 3
   },
   "file_extension": ".py",
   "mimetype": "text/x-python",
   "name": "python",
   "nbconvert_exporter": "python",
   "pygments_lexer": "ipython3",
   "version": "3.6.8"
  }
 },
 "nbformat": 4,
 "nbformat_minor": 2
}
